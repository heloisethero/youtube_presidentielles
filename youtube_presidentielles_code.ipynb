{
 "cells": [
  {
   "cell_type": "code",
   "execution_count": 1,
   "id": "6922d4b5",
   "metadata": {},
   "outputs": [
    {
     "name": "stderr",
     "output_type": "stream",
     "text": [
      "/home/heloise/.pyenv/versions/3.10.0/envs/youtube_presidentielles/lib/python3.10/site-packages/secretstorage/util.py:46: UserWarning: Passing unwrap= to .send_and_get_reply() is deprecated and will break in a future version of Jeepney.\n",
      "  return self._connection.send_and_get_reply(msg, unwrap=True)\n"
     ]
    }
   ],
   "source": [
    "import minet\n",
    "import pandas as pd\n",
    "import requests\n",
    "import matplotlib.pyplot as plt\n",
    "from matplotlib import lines\n",
    "import numpy as np"
   ]
  },
  {
   "cell_type": "markdown",
   "id": "5b965e68",
   "metadata": {},
   "source": [
    "# Installation"
   ]
  },
  {
   "cell_type": "raw",
   "id": "eb153660",
   "metadata": {},
   "source": [
    "The scripts were run on Python 3.10.0."
   ]
  },
  {
   "cell_type": "code",
   "execution_count": 2,
   "id": "2c57cf65",
   "metadata": {},
   "outputs": [],
   "source": [
    "!pip install -r requirements.txt"
   ]
  },
  {
   "cell_type": "markdown",
   "id": "b1c2593a",
   "metadata": {},
   "source": [
    "# Data collection"
   ]
  },
  {
   "cell_type": "code",
   "execution_count": 3,
   "id": "1d94a27d",
   "metadata": {},
   "outputs": [],
   "source": [
    "!minet youtube search macron --order date > macron_videos_raw.csv"
   ]
  },
  {
   "cell_type": "code",
   "execution_count": 4,
   "id": "79157997",
   "metadata": {},
   "outputs": [],
   "source": [
    "!minet youtube search \"le pen\" --order date > lepen_videos_raw.csv"
   ]
  },
  {
   "cell_type": "markdown",
   "id": "0df83621",
   "metadata": {},
   "source": [
    "# Data preprocessing"
   ]
  },
  {
   "cell_type": "code",
   "execution_count": 5,
   "id": "aef19395",
   "metadata": {},
   "outputs": [],
   "source": [
    "df_1 = pd.read_csv('./macron_videos_raw.csv')\n",
    "df_1 = df_1.drop_duplicates(subset=['video_id'])\n",
    "df_1 = df_1.head(500)"
   ]
  },
  {
   "cell_type": "code",
   "execution_count": 6,
   "id": "a0cc8704",
   "metadata": {},
   "outputs": [],
   "source": [
    "def get_information_panel_data(df):\n",
    "    df['video_url'] = \"https://www.youtube.com/watch?v=\" + df['video_id']\n",
    "    df['election_panel'] = df['video_url'].apply(lambda x: 'fr2022_president_erip' in requests.get(x).text)\n",
    "    return df"
   ]
  },
  {
   "cell_type": "code",
   "execution_count": 7,
   "id": "bdafcd2b",
   "metadata": {},
   "outputs": [],
   "source": [
    "df_1 = get_information_panel_data(df_1)\n",
    "df_1.to_csv('./macron_videos.csv', index=False)"
   ]
  },
  {
   "cell_type": "code",
   "execution_count": 8,
   "id": "58733961",
   "metadata": {},
   "outputs": [],
   "source": [
    "df_2 = pd.read_csv('./lepen_videos_raw.csv')\n",
    "df_2 = df_2.drop_duplicates(subset=['video_id'])\n",
    "df_2 = df_2.head(500)\n",
    "df_2 = get_information_panel_data(df_2)\n",
    "df_2.to_csv('./lepen_videos.csv', index=False)"
   ]
  },
  {
   "cell_type": "markdown",
   "id": "793886f7",
   "metadata": {},
   "source": [
    "# Data vizualisation"
   ]
  },
  {
   "cell_type": "code",
   "execution_count": 9,
   "id": "14a4db78",
   "metadata": {},
   "outputs": [],
   "source": [
    "df_1 = pd.read_csv('./macron_videos.csv')\n",
    "df_1['published_at'] = pd.to_datetime(df_1['published_at'])\n",
    "\n",
    "df_2 = pd.read_csv('./lepen_videos.csv')\n",
    "df_2['published_at'] = pd.to_datetime(df_2['published_at'])\n",
    "\n",
    "df_t = pd.concat([df_1, df_2])\n",
    "df_t = df_t.drop_duplicates(subset=['video_id'])"
   ]
  },
  {
   "cell_type": "code",
   "execution_count": 10,
   "id": "fd34eb3a",
   "metadata": {},
   "outputs": [
    {
     "data": {
      "image/png": "[encoded data removed]",
      "text/plain": [
       "<Figure size 612x108 with 1 Axes>"
      ]
     },
     "metadata": {
      "needs_background": "light"
     },
     "output_type": "display_data"
    }
   ],
   "source": [
    "plt.figure(figsize=(8.5, 1.5))\n",
    "ax = plt.subplot(111)\n",
    "\n",
    "for date in df_t[~df_t['election_panel']]['published_at'].values:\n",
    "    plt.plot([date, date], [0, 1], color='C2', alpha=0.5)\n",
    "for date in df_t[df_t['election_panel']]['published_at'].values:\n",
    "    plt.plot([date, date], [0, 1], color='C1', alpha=0.5)\n",
    "    \n",
    "plt.xlim(np.datetime64('2021-12-16'), np.datetime64('2022-04-15'))\n",
    "plt.xticks(\n",
    "    ticks=[np.datetime64(x) for x in ['2022-01-01', '2022-02-01', '2022-03-01', '2022-04-01']], \n",
    "    labels=['1er janvier 2022', '1er février 2022', '1er mars 2022', '1er avril 2022']\n",
    ")\n",
    "plt.yticks([])\n",
    "vertical_line_1 = lines.Line2D([], [], color='C2', marker='|', linestyle='None',\n",
    "                          markersize=15, markeredgewidth=1.5, label=\"Vidéo sans panneau d'information\")\n",
    "vertical_line_2 = lines.Line2D([], [], color='C1', marker='|', linestyle='None',\n",
    "                          markersize=15, markeredgewidth=1.5, label=\"Vidéo avec panneau d'information\")\n",
    "plt.legend(handles=[vertical_line_1, vertical_line_2], ncol=2, loc='upper center', frameon=False)\n",
    "plt.ylim(0, 1.8)\n",
    "ax.set_frame_on(False)\n",
    "plt.tight_layout()\n",
    "plt.savefig('./figure_2.png')"
   ]
  },
  {
   "cell_type": "code",
   "execution_count": 11,
   "id": "35b32993",
   "metadata": {},
   "outputs": [
    {
     "data": {
      "text/plain": [
       "177"
      ]
     },
     "execution_count": 11,
     "metadata": {},
     "output_type": "execute_result"
    }
   ],
   "source": [
    "len(df_t[df_t['published_at'] < '2022-03-10 00:00:00'])"
   ]
  },
  {
   "cell_type": "code",
   "execution_count": 12,
   "id": "a4115963",
   "metadata": {},
   "outputs": [
    {
     "data": {
      "image/png": "[encoded data removed]",
      "text/plain": [
       "<Figure size 432x216 with 2 Axes>"
      ]
     },
     "metadata": {},
     "output_type": "display_data"
    }
   ],
   "source": [
    "fig, ax = plt.subplots(figsize=(6, 3), subplot_kw=dict(aspect=\"equal\"))\n",
    "\n",
    "def func(pct, allvals):\n",
    "    absolute = int(np.round(pct/100.*np.sum(allvals)))\n",
    "    return \"{:d}\\nvidéos\\n({:.1f}%)\".format(absolute, pct)\n",
    "\n",
    "df_1b = df_1[df_1['published_at'] > '2022-03-10 00:00:00']\n",
    "plt.subplot(121)\n",
    "data = [len(df_1b[df_1b['election_panel']]), len(df_1b[~df_1b['election_panel']])]\n",
    "labels = [\"avec panneau\\nd'information\", \"sans panneau\\nd'information\"]\n",
    "wedges, texts, autotexts = plt.pie(data, colors=['C1', 'C2'],\n",
    "                                  autopct=lambda pct: func(pct, data),\n",
    "                                  textprops=dict(color=\"w\"))\n",
    "plt.title(\"Vidéos sur E. Macron\\ndepuis le 10 mars 2022\")\n",
    "\n",
    "df_2b = df_2[df_2['published_at'] > '2022-03-10 00:00:00']\n",
    "plt.subplot(122)\n",
    "data = [len(df_2b[df_2b['election_panel']]), len(df_2b[~df_2b['election_panel']])]\n",
    "wedges, texts, autotexts = plt.pie(data, colors=['C1', 'C2'],\n",
    "                                  autopct=lambda pct: func(pct, data),\n",
    "                                  textprops=dict(color=\"w\"))\n",
    "plt.legend(wedges, labels, framealpha=0,\n",
    "          loc=\"center left\", bbox_to_anchor=(1, 0, 0.5, 1))\n",
    "plt.title(\"Vidéos sur M. Le Pen\\ndepuis le 10 mars 2022\")\n",
    "\n",
    "plt.tight_layout()\n",
    "plt.savefig('./figure_3.png')"
   ]
  }
 ],
 "metadata": {
  "kernelspec": {
   "display_name": "Python 3 (ipykernel)",
   "language": "python",
   "name": "python3"
  },
  "language_info": {
   "codemirror_mode": {
    "name": "ipython",
    "version": 3
   },
   "file_extension": ".py",
   "mimetype": "text/x-python",
   "name": "python",
   "nbconvert_exporter": "python",
   "pygments_lexer": "ipython3",
   "version": "3.10.0"
  }
 },
 "nbformat": 4,
 "nbformat_minor": 5
}
